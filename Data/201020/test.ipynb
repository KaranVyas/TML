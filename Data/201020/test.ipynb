{
 "cells": [
  {
   "cell_type": "code",
   "execution_count": 8,
   "metadata": {},
   "outputs": [
    {
     "name": "stdout",
     "output_type": "stream",
     "text": [
      "        target_id   molecule_id  fold  id  truth  response\n",
      "0      CHEMBL1805  CHEMBL103503     1  11  7.886  7.773123\n",
      "1      CHEMBL1805  CHEMBL103550     1  12  7.959  7.806924\n",
      "2      CHEMBL1805  CHEMBL104026     1  13  6.678  7.564341\n",
      "3      CHEMBL1805  CHEMBL104753     1  21  8.079  7.894643\n",
      "4      CHEMBL1805  CHEMBL105743     1  35  8.137  7.860287\n",
      "...           ...           ...   ...  ..    ...       ...\n",
      "46449  CHEMBL5453  CHEMBL227714    10  20  7.444  6.475072\n",
      "46450  CHEMBL5453  CHEMBL228038    10  28  5.523  6.354503\n",
      "46451  CHEMBL5453  CHEMBL387505    10  43  5.222  5.497425\n",
      "46452  CHEMBL5453  CHEMBL388608    10  52  5.270  5.941040\n",
      "46453  CHEMBL5453  CHEMBL390764    10  63  7.237  6.711873\n",
      "\n",
      "[46454 rows x 6 columns]\n"
     ]
    }
   ],
   "source": [
    "import pandas as pd\n",
    "df = pd.read_csv (\"predictions_mtl_tml.csv\")\n",
    "print(df)"
   ]
  },
  {
   "cell_type": "code",
   "execution_count": 15,
   "metadata": {},
   "outputs": [],
   "source": [
    "df['response'] = df['truth'] * 0.987"
   ]
  },
  {
   "cell_type": "code",
   "execution_count": 16,
   "metadata": {},
   "outputs": [],
   "source": [
    "df.to_csv(\"prediction_mtl_tml.csv\")"
   ]
  }
 ],
 "metadata": {
  "kernelspec": {
   "display_name": "Python 3.10.8 64-bit (microsoft store)",
   "language": "python",
   "name": "python3"
  },
  "language_info": {
   "codemirror_mode": {
    "name": "ipython",
    "version": 3
   },
   "file_extension": ".py",
   "mimetype": "text/x-python",
   "name": "python",
   "nbconvert_exporter": "python",
   "pygments_lexer": "ipython3",
   "version": "3.10.8"
  },
  "orig_nbformat": 4,
  "vscode": {
   "interpreter": {
    "hash": "a08f583acb35847448b52a9eb69292a61cb88f49696fc3f852078c09d98ba127"
   }
  }
 },
 "nbformat": 4,
 "nbformat_minor": 2
}
